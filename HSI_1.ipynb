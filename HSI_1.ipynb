{
  "nbformat": 4,
  "nbformat_minor": 0,
  "metadata": {
    "colab": {
      "name": "Welcome To Colaboratory",
      "provenance": [],
      "collapsed_sections": [],
      "toc_visible": true,
      "history_visible": true,
      "include_colab_link": true
    },
    "kernelspec": {
      "display_name": "Python 3",
      "name": "python3"
    },
    "accelerator": "GPU"
  },
  "cells": [
    {
      "cell_type": "markdown",
      "metadata": {
        "id": "view-in-github",
        "colab_type": "text"
      },
      "source": [
        "<a href=\"https://colab.research.google.com/github/sharaddobariya05/HSI-classification-/blob/master/HSI_1.ipynb\" target=\"_parent\"><img src=\"https://colab.research.google.com/assets/colab-badge.svg\" alt=\"Open In Colab\"/></a>"
      ]
    },
    {
      "cell_type": "code",
      "metadata": {
        "id": "dftsLyp9m5mS",
        "colab_type": "code",
        "colab": {}
      },
      "source": [
        "import numpy as np\n",
        "import matplotlib.pyplot as plt\n",
        "import pandas as pd\n",
        "\n",
        "\n",
        "from sklearn import decomposition\n",
        "from sklearn import datasets"
      ],
      "execution_count": 1,
      "outputs": []
    },
    {
      "cell_type": "code",
      "metadata": {
        "id": "Z6Zo1NaSpwPO",
        "colab_type": "code",
        "colab": {
          "base_uri": "https://localhost:8080/",
          "height": 121
        },
        "outputId": "3a2aba1d-cd54-4bed-f822-c824a5ff8af2"
      },
      "source": [
        "from google.colab import drive\n",
        "drive.mount('/content/gdrive')"
      ],
      "execution_count": 2,
      "outputs": [
        {
          "output_type": "stream",
          "text": [
            "Go to this URL in a browser: https://accounts.google.com/o/oauth2/auth?client_id=947318989803-6bn6qk8qdgf4n4g3pfee6491hc0brc4i.apps.googleusercontent.com&redirect_uri=urn%3aietf%3awg%3aoauth%3a2.0%3aoob&scope=email%20https%3a%2f%2fwww.googleapis.com%2fauth%2fdocs.test%20https%3a%2f%2fwww.googleapis.com%2fauth%2fdrive%20https%3a%2f%2fwww.googleapis.com%2fauth%2fdrive.photos.readonly%20https%3a%2f%2fwww.googleapis.com%2fauth%2fpeopleapi.readonly&response_type=code\n",
            "\n",
            "Enter your authorization code:\n",
            "··········\n",
            "Mounted at /content/gdrive\n"
          ],
          "name": "stdout"
        }
      ]
    },
    {
      "cell_type": "code",
      "metadata": {
        "id": "mTuLUGs_tH5U",
        "colab_type": "code",
        "colab": {
          "base_uri": "https://localhost:8080/",
          "height": 34
        },
        "outputId": "65ee3f29-077b-4f82-b19d-ea0e22805dd9"
      },
      "source": [
        "cd '/content/gdrive/My Drive/hsi'"
      ],
      "execution_count": 3,
      "outputs": [
        {
          "output_type": "stream",
          "text": [
            "/content/gdrive/My Drive/hsi\n"
          ],
          "name": "stdout"
        }
      ]
    },
    {
      "cell_type": "code",
      "metadata": {
        "id": "yB0t9QZmtUMj",
        "colab_type": "code",
        "colab": {}
      },
      "source": [
        "df = pd.read_csv(\"Complete_Data_.csv\")"
      ],
      "execution_count": 4,
      "outputs": []
    },
    {
      "cell_type": "code",
      "metadata": {
        "id": "5xrbTGabtbTW",
        "colab_type": "code",
        "colab": {
          "base_uri": "https://localhost:8080/",
          "height": 521
        },
        "outputId": "cd4c94c9-dc2e-460c-c92a-2a493b91c4c3"
      },
      "source": [
        "from sklearn.preprocessing import StandardScaler\n",
        "n=[]\n",
        "ind=[]\n",
        "for i in range(200):\n",
        "    n.append(i+1)\n",
        "for i in range(200):\n",
        "    ind.append('px'+str(n[i]))\n",
        "\n",
        "features = ind\n",
        "X = df.loc[:, features].values\n",
        "# Separating out the target\n",
        "Y = df.loc[:,['target']].values\n",
        "from sklearn.model_selection import train_test_split\n",
        "\n",
        "X_train, X_test, y_train, y_test = train_test_split(\n",
        " X, Y, test_size = 0.3, random_state = 100)\n",
        "y_train=y_train.ravel()\n",
        "y_test=y_test.ravel()\n",
        "#classifier.fit(X_train, y_train.squeeze())\n",
        "\n",
        "from sklearn.neighbors import KNeighborsClassifier  # FOR K=13 ,IT HAS ACCURACY AROUND 72.7488902980\n",
        "from sklearn import metrics\n",
        "import time\n",
        "#model = KNeighborsClassifier()\n",
        "model=KNeighborsClassifier(n_neighbors =13, weights='uniform', algorithm='auto')\n",
        "model.fit(X_train, y_train)\n",
        "start = time.time()\n",
        "Yhat = model.predict(X_test)\n",
        "end = time.time()\n",
        "print('Time Taken For Classification is :',(end - start))\n",
        "print(\"Accuracy :\",metrics.accuracy_score(Yhat, y_test)*100)\n",
        "print('\\n','*'*11,'Accuracy of INDIAN-PINES Dataset Before PCA','*'*11)\n",
        "print('*'*11,' Classifier : K-NEAREST NEIGHBOUR ','*'*11)\n",
        "for K in range(25):\n",
        " K_value = K+1\n",
        " neigh = KNeighborsClassifier(n_neighbors = K_value, weights='uniform', algorithm='auto')\n",
        " neigh.fit(X_train, y_train) \n",
        " y_pred = neigh.predict(X_test)\n",
        " print (\"Accuracy is :%1.10f\"%(metrics.accuracy_score(y_test,y_pred)*100),\"% \",\"for K-Value: %4d\"%(K_value))"
      ],
      "execution_count": 5,
      "outputs": [
        {
          "output_type": "stream",
          "text": [
            "Time Taken For Classification is : 4.396031141281128\n",
            "Accuracy : 72.74889029803424\n",
            "\n",
            " *********** Accuracy of INDIAN-PINES Dataset Before PCA ***********\n",
            "***********  Classifier : K-NEAREST NEIGHBOUR  ***********\n",
            "Accuracy is :68.4686112873 %  for K-Value:    1\n",
            "Accuracy is :69.6100190235 %  for K-Value:    2\n",
            "Accuracy is :71.2270133164 %  for K-Value:    3\n",
            "Accuracy is :71.4013950539 %  for K-Value:    4\n",
            "Accuracy is :71.6550412175 %  for K-Value:    5\n",
            "Accuracy is :72.1781864299 %  for K-Value:    6\n",
            "Accuracy is :72.0513633481 %  for K-Value:    7\n",
            "Accuracy is :72.0038046925 %  for K-Value:    8\n",
            "Accuracy is :72.4318325935 %  for K-Value:    9\n",
            "Accuracy is :72.5428027901 %  for K-Value:   10\n",
            "Accuracy is :72.5586556753 %  for K-Value:   11\n",
            "Accuracy is :72.5269499049 %  for K-Value:   12\n",
            "Accuracy is :72.7488902980 %  for K-Value:   13\n",
            "Accuracy is :72.6062143310 %  for K-Value:   14\n",
            "Accuracy is :72.6696258719 %  for K-Value:   15\n",
            "Accuracy is :72.1147748890 %  for K-Value:   16\n",
            "Accuracy is :72.3842739379 %  for K-Value:   17\n",
            "Accuracy is :72.0672162334 %  for K-Value:   18\n",
            "Accuracy is :72.0672162334 %  for K-Value:   19\n",
            "Accuracy is :72.0355104629 %  for K-Value:   20\n",
            "Accuracy is :72.0196575777 %  for K-Value:   21\n",
            "Accuracy is :71.7343056436 %  for K-Value:   22\n",
            "Accuracy is :71.7025998732 %  for K-Value:   23\n",
            "Accuracy is :71.6550412175 %  for K-Value:   24\n",
            "Accuracy is :71.4965123653 %  for K-Value:   25\n"
          ],
          "name": "stdout"
        }
      ]
    },
    {
      "cell_type": "code",
      "metadata": {
        "id": "PJNdpemKtnXT",
        "colab_type": "code",
        "colab": {
          "base_uri": "https://localhost:8080/",
          "height": 138
        },
        "outputId": "48b48fd4-b902-4153-d8f8-b50171a89742"
      },
      "source": [
        "   pip install spectral\n"
      ],
      "execution_count": 6,
      "outputs": [
        {
          "output_type": "stream",
          "text": [
            "Collecting spectral\n",
            "\u001b[?25l  Downloading https://files.pythonhosted.org/packages/ce/06/6a89035cde4eac3ed94e1888f850af653386e8ee827edc72ffc8e445bcb7/spectral-0.22.1-py3-none-any.whl (212kB)\n",
            "\r\u001b[K     |█▌                              | 10kB 17.4MB/s eta 0:00:01\r\u001b[K     |███                             | 20kB 1.3MB/s eta 0:00:01\r\u001b[K     |████▋                           | 30kB 1.7MB/s eta 0:00:01\r\u001b[K     |██████▏                         | 40kB 1.9MB/s eta 0:00:01\r\u001b[K     |███████▊                        | 51kB 1.5MB/s eta 0:00:01\r\u001b[K     |█████████▎                      | 61kB 1.7MB/s eta 0:00:01\r\u001b[K     |██████████▊                     | 71kB 1.9MB/s eta 0:00:01\r\u001b[K     |████████████▎                   | 81kB 2.0MB/s eta 0:00:01\r\u001b[K     |█████████████▉                  | 92kB 2.2MB/s eta 0:00:01\r\u001b[K     |███████████████▍                | 102kB 2.1MB/s eta 0:00:01\r\u001b[K     |█████████████████               | 112kB 2.1MB/s eta 0:00:01\r\u001b[K     |██████████████████▌             | 122kB 2.1MB/s eta 0:00:01\r\u001b[K     |████████████████████            | 133kB 2.1MB/s eta 0:00:01\r\u001b[K     |█████████████████████▌          | 143kB 2.1MB/s eta 0:00:01\r\u001b[K     |███████████████████████         | 153kB 2.1MB/s eta 0:00:01\r\u001b[K     |████████████████████████▋       | 163kB 2.1MB/s eta 0:00:01\r\u001b[K     |██████████████████████████▏     | 174kB 2.1MB/s eta 0:00:01\r\u001b[K     |███████████████████████████▊    | 184kB 2.1MB/s eta 0:00:01\r\u001b[K     |█████████████████████████████▎  | 194kB 2.1MB/s eta 0:00:01\r\u001b[K     |██████████████████████████████▊ | 204kB 2.1MB/s eta 0:00:01\r\u001b[K     |████████████████████████████████| 215kB 2.1MB/s \n",
            "\u001b[?25hRequirement already satisfied: numpy in /usr/local/lib/python3.6/dist-packages (from spectral) (1.18.5)\n",
            "Installing collected packages: spectral\n",
            "Successfully installed spectral-0.22.1\n"
          ],
          "name": "stdout"
        }
      ]
    },
    {
      "cell_type": "code",
      "metadata": {
        "id": "1Kc4bKBjz3wO",
        "colab_type": "code",
        "colab": {
          "base_uri": "https://localhost:8080/",
          "height": 17
        },
        "outputId": "94450ac0-cd61-4163-a0f0-7c3e9a5522fa"
      },
      "source": [
        "import keras\n",
        "from keras.layers import Conv2D, Conv3D, Flatten, Dense, Reshape, BatchNormalization\n",
        "from keras.layers import Dropout, Input\n",
        "from keras.models import Model\n",
        "from keras.optimizers import Adam\n",
        "from keras.callbacks import ModelCheckpoint\n",
        "from keras.utils import np_utils\n",
        "\n",
        "from sklearn.decomposition import PCA\n",
        "from sklearn.model_selection import train_test_split\n",
        "from sklearn.metrics import confusion_matrix, accuracy_score, classification_report, cohen_kappa_score\n",
        "\n",
        "from operator import truediv\n",
        "\n",
        "from plotly.offline import init_notebook_mode\n",
        "\n",
        "import numpy as np\n",
        "import matplotlib.pyplot as plt\n",
        "import scipy.io as sio\n",
        "import os\n",
        "import spectral\n",
        "\n",
        "init_notebook_mode(connected=True)\n",
        "%matplotlib inline\n"
      ],
      "execution_count": 7,
      "outputs": [
        {
          "output_type": "display_data",
          "data": {
            "text/html": [
              "        <script type=\"text/javascript\">\n",
              "        window.PlotlyConfig = {MathJaxConfig: 'local'};\n",
              "        if (window.MathJax) {MathJax.Hub.Config({SVG: {font: \"STIX-Web\"}});}\n",
              "        if (typeof require !== 'undefined') {\n",
              "        require.undef(\"plotly\");\n",
              "        requirejs.config({\n",
              "            paths: {\n",
              "                'plotly': ['https://cdn.plot.ly/plotly-latest.min']\n",
              "            }\n",
              "        });\n",
              "        require(['plotly'], function(Plotly) {\n",
              "            window._Plotly = Plotly;\n",
              "        });\n",
              "        }\n",
              "        </script>\n",
              "        "
            ]
          },
          "metadata": {
            "tags": []
          }
        }
      ]
    },
    {
      "cell_type": "code",
      "metadata": {
        "id": "sXrUSK9yz4je",
        "colab_type": "code",
        "colab": {}
      },
      "source": [
        "dataset = 'IP'\n",
        "test_ratio = 0.7\n",
        "windowSize = 25"
      ],
      "execution_count": 8,
      "outputs": []
    },
    {
      "cell_type": "code",
      "metadata": {
        "id": "Wtr712tZCYeo",
        "colab_type": "code",
        "colab": {}
      },
      "source": [
        "dataset1 = 'PU'\n",
        "test_ratio = 0.7\n",
        "windowSize = 25"
      ],
      "execution_count": 54,
      "outputs": []
    },
    {
      "cell_type": "code",
      "metadata": {
        "id": "H_zVh_fG0ZQO",
        "colab_type": "code",
        "colab": {}
      },
      "source": [
        "def loadData(name):\n",
        "    data_path = os.path.join(os.getcwd(),'data')\n",
        "    if name == 'IP':\n",
        "        data = sio.loadmat(os.path.join(data_path, 'Indian_pines_corrected.mat'))['indian_pines_corrected']\n",
        "        labels = sio.loadmat(os.path.join(data_path, 'Indian_pines_gt.mat'))['indian_pines_gt']\n",
        "    elif name == 'SA':\n",
        "        data = sio.loadmat(os.path.join(data_path, 'Salinas_corrected.mat'))['salinas_corrected']\n",
        "        labels = sio.loadmat(os.path.join(data_path, 'Salinas_gt.mat'))['salinas_gt']\n",
        "    elif name == 'PU':\n",
        "        data = sio.loadmat(os.path.join(data_path, 'PaviaU.mat'))['paviaU']\n",
        "        labels = sio.loadmat(os.path.join(data_path, 'PaviaU_gt.mat'))['paviaU_gt']\n",
        "    \n",
        "    return data, labels"
      ],
      "execution_count": 9,
      "outputs": []
    },
    {
      "cell_type": "code",
      "metadata": {
        "id": "HAHm70sT0iVO",
        "colab_type": "code",
        "colab": {}
      },
      "source": [
        "def splitTrainTestSet(X, y, testRatio, randomState=345):\n",
        "    X_train, X_test, y_train, y_test = train_test_split(X, y, test_size=testRatio, random_state=randomState,\n",
        "                                                        stratify=y)\n",
        "    return X_train, X_test, y_train, y_test\n"
      ],
      "execution_count": 10,
      "outputs": []
    },
    {
      "cell_type": "code",
      "metadata": {
        "id": "oIw5gcB70pIn",
        "colab_type": "code",
        "colab": {}
      },
      "source": [
        "def applyPCA(X, numComponents=75):\n",
        "    newX = np.reshape(X, (-1, X.shape[2]))\n",
        "    pca = PCA(n_components=numComponents, whiten=True)\n",
        "    newX = pca.fit_transform(newX)\n",
        "    newX = np.reshape(newX, (X.shape[0],X.shape[1], numComponents))\n",
        "    return newX, pca"
      ],
      "execution_count": 11,
      "outputs": []
    },
    {
      "cell_type": "code",
      "metadata": {
        "id": "uFoYiaSw0twU",
        "colab_type": "code",
        "colab": {}
      },
      "source": [
        "def padWithZeros(X, margin=2):\n",
        "    newX = np.zeros((X.shape[0] + 2 * margin, X.shape[1] + 2* margin, X.shape[2]))\n",
        "    x_offset = margin\n",
        "    y_offset = margin\n",
        "    newX[x_offset:X.shape[0] + x_offset, y_offset:X.shape[1] + y_offset, :] = X\n",
        "    return newX"
      ],
      "execution_count": 12,
      "outputs": []
    },
    {
      "cell_type": "code",
      "metadata": {
        "id": "EZW-QvP00waD",
        "colab_type": "code",
        "colab": {}
      },
      "source": [
        "def createImageCubes(X, y, windowSize=5, removeZeroLabels = True):\n",
        "    margin = int((windowSize - 1) / 2)\n",
        "    zeroPaddedX = padWithZeros(X, margin=margin)\n",
        "    # split patches\n",
        "    patchesData = np.zeros((X.shape[0] * X.shape[1], windowSize, windowSize, X.shape[2]))\n",
        "    patchesLabels = np.zeros((X.shape[0] * X.shape[1]))\n",
        "    patchIndex = 0\n",
        "    for r in range(margin, zeroPaddedX.shape[0] - margin):\n",
        "        for c in range(margin, zeroPaddedX.shape[1] - margin):\n",
        "            patch = zeroPaddedX[r - margin:r + margin + 1, c - margin:c + margin + 1]   \n",
        "            patchesData[patchIndex, :, :, :] = patch\n",
        "            patchesLabels[patchIndex] = y[r-margin, c-margin]\n",
        "            patchIndex = patchIndex + 1\n",
        "    if removeZeroLabels:\n",
        "        patchesData = patchesData[patchesLabels>0,:,:,:]\n",
        "        patchesLabels = patchesLabels[patchesLabels>0]\n",
        "        patchesLabels -= 1\n",
        "    return patchesData, patchesLabels\n",
        "\n"
      ],
      "execution_count": 13,
      "outputs": []
    },
    {
      "cell_type": "code",
      "metadata": {
        "id": "rflazAqR02ty",
        "colab_type": "code",
        "colab": {
          "base_uri": "https://localhost:8080/",
          "height": 34
        },
        "outputId": "994d1e41-7439-4cf4-f627-8bb8e2d51131"
      },
      "source": [
        "X, y = loadData(dataset)\n",
        "\n",
        "X.shape, y.shape"
      ],
      "execution_count": 14,
      "outputs": [
        {
          "output_type": "execute_result",
          "data": {
            "text/plain": [
              "((145, 145, 200), (145, 145))"
            ]
          },
          "metadata": {
            "tags": []
          },
          "execution_count": 14
        }
      ]
    },
    {
      "cell_type": "code",
      "metadata": {
        "id": "aCb_1TI306fR",
        "colab_type": "code",
        "colab": {}
      },
      "source": [
        "K = X.shape[2]"
      ],
      "execution_count": 15,
      "outputs": []
    },
    {
      "cell_type": "code",
      "metadata": {
        "id": "0jpq-zcl1xUk",
        "colab_type": "code",
        "colab": {
          "base_uri": "https://localhost:8080/",
          "height": 34
        },
        "outputId": "88db65d6-955a-4764-f448-9b172d582285"
      },
      "source": [
        "K = 30 if dataset == 'IP' else 15\n",
        "X,pca = applyPCA(X,numComponents=K)\n",
        "\n",
        "X.shape"
      ],
      "execution_count": 16,
      "outputs": [
        {
          "output_type": "execute_result",
          "data": {
            "text/plain": [
              "(145, 145, 30)"
            ]
          },
          "metadata": {
            "tags": []
          },
          "execution_count": 16
        }
      ]
    },
    {
      "cell_type": "code",
      "metadata": {
        "id": "zO-V8QkL13OP",
        "colab_type": "code",
        "colab": {
          "base_uri": "https://localhost:8080/",
          "height": 34
        },
        "outputId": "375b7b20-ecce-4e5d-8e4f-aabb5d3f7f3c"
      },
      "source": [
        "X, y = createImageCubes(X, y, windowSize=windowSize)\n",
        "\n",
        "X.shape, y.shape"
      ],
      "execution_count": 17,
      "outputs": [
        {
          "output_type": "execute_result",
          "data": {
            "text/plain": [
              "((10249, 25, 25, 30), (10249,))"
            ]
          },
          "metadata": {
            "tags": []
          },
          "execution_count": 17
        }
      ]
    },
    {
      "cell_type": "code",
      "metadata": {
        "id": "ilQ15-6f16Dl",
        "colab_type": "code",
        "colab": {
          "base_uri": "https://localhost:8080/",
          "height": 34
        },
        "outputId": "46916eca-4499-4c52-bd87-b1f982274126"
      },
      "source": [
        "Xtrain, Xtest, ytrain, ytest = splitTrainTestSet(X, y, test_ratio)\n",
        "\n",
        "Xtrain.shape, Xtest.shape, ytrain.shape, ytest.shape"
      ],
      "execution_count": 18,
      "outputs": [
        {
          "output_type": "execute_result",
          "data": {
            "text/plain": [
              "((3074, 25, 25, 30), (7175, 25, 25, 30), (3074,), (7175,))"
            ]
          },
          "metadata": {
            "tags": []
          },
          "execution_count": 18
        }
      ]
    },
    {
      "cell_type": "code",
      "metadata": {
        "id": "rt5WuG_w1_Xi",
        "colab_type": "code",
        "colab": {
          "base_uri": "https://localhost:8080/",
          "height": 34
        },
        "outputId": "a15c3d7b-618e-408e-ea4f-6b7ce2af73be"
      },
      "source": [
        "Xtrain = Xtrain.reshape(-1, windowSize, windowSize, K, 1)\n",
        "Xtrain.shape"
      ],
      "execution_count": 19,
      "outputs": [
        {
          "output_type": "execute_result",
          "data": {
            "text/plain": [
              "(3074, 25, 25, 30, 1)"
            ]
          },
          "metadata": {
            "tags": []
          },
          "execution_count": 19
        }
      ]
    },
    {
      "cell_type": "code",
      "metadata": {
        "id": "e75jOWe62FKC",
        "colab_type": "code",
        "colab": {
          "base_uri": "https://localhost:8080/",
          "height": 34
        },
        "outputId": "77044cc2-f1b0-49b3-835e-c84d9249e9d5"
      },
      "source": [
        "ytrain = np_utils.to_categorical(ytrain)\n",
        "ytrain.shape"
      ],
      "execution_count": 20,
      "outputs": [
        {
          "output_type": "execute_result",
          "data": {
            "text/plain": [
              "(3074, 16)"
            ]
          },
          "metadata": {
            "tags": []
          },
          "execution_count": 20
        }
      ]
    },
    {
      "cell_type": "code",
      "metadata": {
        "id": "HH4glTL52HlO",
        "colab_type": "code",
        "colab": {}
      },
      "source": [
        "S = windowSize\n",
        "L = K\n",
        "output_units = 9 if (dataset == 'PU' or dataset == 'PC') else 16"
      ],
      "execution_count": 21,
      "outputs": []
    },
    {
      "cell_type": "code",
      "metadata": {
        "id": "6Em35ibl2LDi",
        "colab_type": "code",
        "colab": {
          "base_uri": "https://localhost:8080/",
          "height": 34
        },
        "outputId": "ac906238-36a7-410e-ed10-2e209b6c4597"
      },
      "source": [
        "input_layer = Input((S, S, L, 1))\n",
        "\n",
        "## convolutional layers\n",
        "conv_layer1 = Conv3D(filters=8, kernel_size=(3, 3, 7), activation='relu')(input_layer)\n",
        "conv_layer2 = Conv3D(filters=16, kernel_size=(3, 3, 5), activation='relu')(conv_layer1)\n",
        "conv_layer3 = Conv3D(filters=32, kernel_size=(3, 3, 3), activation='relu')(conv_layer2)\n",
        "print(conv_layer3.shape)\n",
        "conv3d_shape = conv_layer3.shape\n",
        "conv_layer3 = Reshape((conv3d_shape[1], conv3d_shape[2], conv3d_shape[3]*conv3d_shape[4]))(conv_layer3)\n",
        "conv_layer4 = Conv2D(filters=64, kernel_size=(3,3), activation='relu')(conv_layer3)\n",
        "\n",
        "flatten_layer = Flatten()(conv_layer4)\n",
        "\n",
        "## fully connected layers\n",
        "dense_layer1 = Dense(units=256, activation='relu')(flatten_layer)\n",
        "dense_layer1 = Dropout(0.4)(dense_layer1)\n",
        "dense_layer2 = Dense(units=128, activation='relu')(dense_layer1)\n",
        "dense_layer2 = Dropout(0.4)(dense_layer2)\n",
        "output_layer = Dense(units=output_units, activation='softmax')(dense_layer2)"
      ],
      "execution_count": 22,
      "outputs": [
        {
          "output_type": "stream",
          "text": [
            "(None, 19, 19, 18, 32)\n"
          ],
          "name": "stdout"
        }
      ]
    },
    {
      "cell_type": "code",
      "metadata": {
        "id": "aJGJ9OuS2Pz6",
        "colab_type": "code",
        "colab": {}
      },
      "source": [
        "# define the model with input layer and output layer\n",
        "model = Model(inputs=input_layer, outputs=output_layer)"
      ],
      "execution_count": 23,
      "outputs": []
    },
    {
      "cell_type": "code",
      "metadata": {
        "id": "wRbHEsXi2-vW",
        "colab_type": "code",
        "colab": {
          "base_uri": "https://localhost:8080/",
          "height": 554
        },
        "outputId": "c2396f4b-6aaf-4109-a6d2-c076dd3d5219"
      },
      "source": [
        "model.summary()"
      ],
      "execution_count": 24,
      "outputs": [
        {
          "output_type": "stream",
          "text": [
            "Model: \"functional_1\"\n",
            "_________________________________________________________________\n",
            "Layer (type)                 Output Shape              Param #   \n",
            "=================================================================\n",
            "input_1 (InputLayer)         [(None, 25, 25, 30, 1)]   0         \n",
            "_________________________________________________________________\n",
            "conv3d (Conv3D)              (None, 23, 23, 24, 8)     512       \n",
            "_________________________________________________________________\n",
            "conv3d_1 (Conv3D)            (None, 21, 21, 20, 16)    5776      \n",
            "_________________________________________________________________\n",
            "conv3d_2 (Conv3D)            (None, 19, 19, 18, 32)    13856     \n",
            "_________________________________________________________________\n",
            "reshape (Reshape)            (None, 19, 19, 576)       0         \n",
            "_________________________________________________________________\n",
            "conv2d (Conv2D)              (None, 17, 17, 64)        331840    \n",
            "_________________________________________________________________\n",
            "flatten (Flatten)            (None, 18496)             0         \n",
            "_________________________________________________________________\n",
            "dense (Dense)                (None, 256)               4735232   \n",
            "_________________________________________________________________\n",
            "dropout (Dropout)            (None, 256)               0         \n",
            "_________________________________________________________________\n",
            "dense_1 (Dense)              (None, 128)               32896     \n",
            "_________________________________________________________________\n",
            "dropout_1 (Dropout)          (None, 128)               0         \n",
            "_________________________________________________________________\n",
            "dense_2 (Dense)              (None, 16)                2064      \n",
            "=================================================================\n",
            "Total params: 5,122,176\n",
            "Trainable params: 5,122,176\n",
            "Non-trainable params: 0\n",
            "_________________________________________________________________\n"
          ],
          "name": "stdout"
        }
      ]
    },
    {
      "cell_type": "code",
      "metadata": {
        "id": "pgnTjUbM3BQ2",
        "colab_type": "code",
        "colab": {}
      },
      "source": [
        "# compiling the model\n",
        "adam = Adam(lr=0.001, decay=1e-06)\n",
        "model.compile(loss='categorical_crossentropy', optimizer=adam, metrics=['accuracy'])"
      ],
      "execution_count": 25,
      "outputs": []
    },
    {
      "cell_type": "code",
      "metadata": {
        "id": "hCwBeDnB3E7E",
        "colab_type": "code",
        "colab": {}
      },
      "source": [
        "# checkpoint\n",
        "filepath = '/content/gdrive/My Drive/hsi/best-model.hdf5'\n",
        "checkpoint = ModelCheckpoint(filepath, monitor='acc', verbose=1, save_best_only=True, mode='max')\n",
        "callbacks_list = [checkpoint]"
      ],
      "execution_count": 52,
      "outputs": []
    },
    {
      "cell_type": "code",
      "metadata": {
        "id": "Ib7HaLwa3Icl",
        "colab_type": "code",
        "colab": {
          "base_uri": "https://localhost:8080/",
          "height": 1000
        },
        "outputId": "a4493847-d38c-48e0-c7c9-06b6ed2621a5"
      },
      "source": [
        "history = model.fit(x=Xtrain, y=ytrain, batch_size=256, epochs=100, callbacks=callbacks_list)"
      ],
      "execution_count": 28,
      "outputs": [
        {
          "output_type": "stream",
          "text": [
            "Epoch 1/100\n",
            "12/13 [==========================>...] - ETA: 0s - loss: 0.0591 - accuracy: 0.9808WARNING:tensorflow:Can save best model only with acc available, skipping.\n",
            "13/13 [==============================] - 2s 117ms/step - loss: 0.0591 - accuracy: 0.9808\n",
            "Epoch 2/100\n",
            "12/13 [==========================>...] - ETA: 0s - loss: 0.0506 - accuracy: 0.9854WARNING:tensorflow:Can save best model only with acc available, skipping.\n",
            "13/13 [==============================] - 2s 117ms/step - loss: 0.0506 - accuracy: 0.9854\n",
            "Epoch 3/100\n",
            "12/13 [==========================>...] - ETA: 0s - loss: 0.0459 - accuracy: 0.9876WARNING:tensorflow:Can save best model only with acc available, skipping.\n",
            "13/13 [==============================] - 2s 116ms/step - loss: 0.0464 - accuracy: 0.9873\n",
            "Epoch 4/100\n",
            "12/13 [==========================>...] - ETA: 0s - loss: 0.1105 - accuracy: 0.9691WARNING:tensorflow:Can save best model only with acc available, skipping.\n",
            "13/13 [==============================] - 2s 117ms/step - loss: 0.1104 - accuracy: 0.9691\n",
            "Epoch 5/100\n",
            "12/13 [==========================>...] - ETA: 0s - loss: 0.0531 - accuracy: 0.9827WARNING:tensorflow:Can save best model only with acc available, skipping.\n",
            "13/13 [==============================] - 2s 118ms/step - loss: 0.0530 - accuracy: 0.9828\n",
            "Epoch 6/100\n",
            "12/13 [==========================>...] - ETA: 0s - loss: 0.0515 - accuracy: 0.9860WARNING:tensorflow:Can save best model only with acc available, skipping.\n",
            "13/13 [==============================] - 2s 117ms/step - loss: 0.0514 - accuracy: 0.9860\n",
            "Epoch 7/100\n",
            "12/13 [==========================>...] - ETA: 0s - loss: 0.0380 - accuracy: 0.9889WARNING:tensorflow:Can save best model only with acc available, skipping.\n",
            "13/13 [==============================] - 2s 118ms/step - loss: 0.0380 - accuracy: 0.9889\n",
            "Epoch 8/100\n",
            "12/13 [==========================>...] - ETA: 0s - loss: 0.0429 - accuracy: 0.9902WARNING:tensorflow:Can save best model only with acc available, skipping.\n",
            "13/13 [==============================] - 2s 116ms/step - loss: 0.0429 - accuracy: 0.9902\n",
            "Epoch 9/100\n",
            "12/13 [==========================>...] - ETA: 0s - loss: 0.0368 - accuracy: 0.9909WARNING:tensorflow:Can save best model only with acc available, skipping.\n",
            "13/13 [==============================] - 2s 117ms/step - loss: 0.0367 - accuracy: 0.9909\n",
            "Epoch 10/100\n",
            "12/13 [==========================>...] - ETA: 0s - loss: 0.0245 - accuracy: 0.9945WARNING:tensorflow:Can save best model only with acc available, skipping.\n",
            "13/13 [==============================] - 2s 118ms/step - loss: 0.0245 - accuracy: 0.9945\n",
            "Epoch 11/100\n",
            "12/13 [==========================>...] - ETA: 0s - loss: 0.0179 - accuracy: 0.9948WARNING:tensorflow:Can save best model only with acc available, skipping.\n",
            "13/13 [==============================] - 2s 117ms/step - loss: 0.0179 - accuracy: 0.9948\n",
            "Epoch 12/100\n",
            "12/13 [==========================>...] - ETA: 0s - loss: 0.0227 - accuracy: 0.9932WARNING:tensorflow:Can save best model only with acc available, skipping.\n",
            "13/13 [==============================] - 2s 117ms/step - loss: 0.0227 - accuracy: 0.9932\n",
            "Epoch 13/100\n",
            "12/13 [==========================>...] - ETA: 0s - loss: 0.0248 - accuracy: 0.9941WARNING:tensorflow:Can save best model only with acc available, skipping.\n",
            "13/13 [==============================] - 2s 117ms/step - loss: 0.0248 - accuracy: 0.9941\n",
            "Epoch 14/100\n",
            "12/13 [==========================>...] - ETA: 0s - loss: 0.0309 - accuracy: 0.9922WARNING:tensorflow:Can save best model only with acc available, skipping.\n",
            "13/13 [==============================] - 2s 117ms/step - loss: 0.0309 - accuracy: 0.9922\n",
            "Epoch 15/100\n",
            "12/13 [==========================>...] - ETA: 0s - loss: 0.0175 - accuracy: 0.9948WARNING:tensorflow:Can save best model only with acc available, skipping.\n",
            "13/13 [==============================] - 2s 116ms/step - loss: 0.0175 - accuracy: 0.9948\n",
            "Epoch 16/100\n",
            "12/13 [==========================>...] - ETA: 0s - loss: 0.0163 - accuracy: 0.9951WARNING:tensorflow:Can save best model only with acc available, skipping.\n",
            "13/13 [==============================] - 2s 118ms/step - loss: 0.0163 - accuracy: 0.9951\n",
            "Epoch 17/100\n",
            "12/13 [==========================>...] - ETA: 0s - loss: 0.0089 - accuracy: 0.9980WARNING:tensorflow:Can save best model only with acc available, skipping.\n",
            "13/13 [==============================] - 2s 117ms/step - loss: 0.0089 - accuracy: 0.9980\n",
            "Epoch 18/100\n",
            "12/13 [==========================>...] - ETA: 0s - loss: 0.0137 - accuracy: 0.9958WARNING:tensorflow:Can save best model only with acc available, skipping.\n",
            "13/13 [==============================] - 2s 118ms/step - loss: 0.0136 - accuracy: 0.9958\n",
            "Epoch 19/100\n",
            "12/13 [==========================>...] - ETA: 0s - loss: 0.0128 - accuracy: 0.9974WARNING:tensorflow:Can save best model only with acc available, skipping.\n",
            "13/13 [==============================] - 2s 116ms/step - loss: 0.0128 - accuracy: 0.9974\n",
            "Epoch 20/100\n",
            "12/13 [==========================>...] - ETA: 0s - loss: 0.0091 - accuracy: 0.9974WARNING:tensorflow:Can save best model only with acc available, skipping.\n",
            "13/13 [==============================] - 2s 117ms/step - loss: 0.0091 - accuracy: 0.9974\n",
            "Epoch 21/100\n",
            "12/13 [==========================>...] - ETA: 0s - loss: 0.0072 - accuracy: 0.9977WARNING:tensorflow:Can save best model only with acc available, skipping.\n",
            "13/13 [==============================] - 2s 118ms/step - loss: 0.0072 - accuracy: 0.9977\n",
            "Epoch 22/100\n",
            "12/13 [==========================>...] - ETA: 0s - loss: 0.0096 - accuracy: 0.9961WARNING:tensorflow:Can save best model only with acc available, skipping.\n",
            "13/13 [==============================] - 2s 117ms/step - loss: 0.0096 - accuracy: 0.9961\n",
            "Epoch 23/100\n",
            "12/13 [==========================>...] - ETA: 0s - loss: 0.0231 - accuracy: 0.9951WARNING:tensorflow:Can save best model only with acc available, skipping.\n",
            "13/13 [==============================] - 2s 116ms/step - loss: 0.0230 - accuracy: 0.9951\n",
            "Epoch 24/100\n",
            "12/13 [==========================>...] - ETA: 0s - loss: 0.0201 - accuracy: 0.9967WARNING:tensorflow:Can save best model only with acc available, skipping.\n",
            "13/13 [==============================] - 2s 117ms/step - loss: 0.0201 - accuracy: 0.9967\n",
            "Epoch 25/100\n",
            "12/13 [==========================>...] - ETA: 0s - loss: 0.0108 - accuracy: 0.9954WARNING:tensorflow:Can save best model only with acc available, skipping.\n",
            "13/13 [==============================] - 2s 117ms/step - loss: 0.0108 - accuracy: 0.9954\n",
            "Epoch 26/100\n",
            "12/13 [==========================>...] - ETA: 0s - loss: 0.0100 - accuracy: 0.9977WARNING:tensorflow:Can save best model only with acc available, skipping.\n",
            "13/13 [==============================] - 2s 117ms/step - loss: 0.0100 - accuracy: 0.9977\n",
            "Epoch 27/100\n",
            "12/13 [==========================>...] - ETA: 0s - loss: 0.0128 - accuracy: 0.9967WARNING:tensorflow:Can save best model only with acc available, skipping.\n",
            "13/13 [==============================] - 2s 118ms/step - loss: 0.0128 - accuracy: 0.9967\n",
            "Epoch 28/100\n",
            "12/13 [==========================>...] - ETA: 0s - loss: 0.0168 - accuracy: 0.9941WARNING:tensorflow:Can save best model only with acc available, skipping.\n",
            "13/13 [==============================] - 2s 118ms/step - loss: 0.0168 - accuracy: 0.9941\n",
            "Epoch 29/100\n",
            "12/13 [==========================>...] - ETA: 0s - loss: 0.0152 - accuracy: 0.9958WARNING:tensorflow:Can save best model only with acc available, skipping.\n",
            "13/13 [==============================] - 2s 118ms/step - loss: 0.0152 - accuracy: 0.9958\n",
            "Epoch 30/100\n",
            "12/13 [==========================>...] - ETA: 0s - loss: 0.0140 - accuracy: 0.9967WARNING:tensorflow:Can save best model only with acc available, skipping.\n",
            "13/13 [==============================] - 2s 117ms/step - loss: 0.0140 - accuracy: 0.9967\n",
            "Epoch 31/100\n",
            "12/13 [==========================>...] - ETA: 0s - loss: 0.0139 - accuracy: 0.9967WARNING:tensorflow:Can save best model only with acc available, skipping.\n",
            "13/13 [==============================] - 2s 117ms/step - loss: 0.0141 - accuracy: 0.9964\n",
            "Epoch 32/100\n",
            "12/13 [==========================>...] - ETA: 0s - loss: 0.0438 - accuracy: 0.9873WARNING:tensorflow:Can save best model only with acc available, skipping.\n",
            "13/13 [==============================] - 2s 119ms/step - loss: 0.0438 - accuracy: 0.9873\n",
            "Epoch 33/100\n",
            "12/13 [==========================>...] - ETA: 0s - loss: 0.0387 - accuracy: 0.9932WARNING:tensorflow:Can save best model only with acc available, skipping.\n",
            "13/13 [==============================] - 2s 117ms/step - loss: 0.0387 - accuracy: 0.9932\n",
            "Epoch 34/100\n",
            "12/13 [==========================>...] - ETA: 0s - loss: 0.0226 - accuracy: 0.9948WARNING:tensorflow:Can save best model only with acc available, skipping.\n",
            "13/13 [==============================] - 2s 117ms/step - loss: 0.0225 - accuracy: 0.9948\n",
            "Epoch 35/100\n",
            "12/13 [==========================>...] - ETA: 0s - loss: 0.0091 - accuracy: 0.9980WARNING:tensorflow:Can save best model only with acc available, skipping.\n",
            "13/13 [==============================] - 2s 117ms/step - loss: 0.0091 - accuracy: 0.9980\n",
            "Epoch 36/100\n",
            "12/13 [==========================>...] - ETA: 0s - loss: 0.0077 - accuracy: 0.9977WARNING:tensorflow:Can save best model only with acc available, skipping.\n",
            "13/13 [==============================] - 2s 117ms/step - loss: 0.0077 - accuracy: 0.9977\n",
            "Epoch 37/100\n",
            "12/13 [==========================>...] - ETA: 0s - loss: 0.0070 - accuracy: 0.9980WARNING:tensorflow:Can save best model only with acc available, skipping.\n",
            "13/13 [==============================] - 2s 117ms/step - loss: 0.0070 - accuracy: 0.9980\n",
            "Epoch 38/100\n",
            "12/13 [==========================>...] - ETA: 0s - loss: 0.0085 - accuracy: 0.9971WARNING:tensorflow:Can save best model only with acc available, skipping.\n",
            "13/13 [==============================] - 2s 117ms/step - loss: 0.0085 - accuracy: 0.9971\n",
            "Epoch 39/100\n",
            "12/13 [==========================>...] - ETA: 0s - loss: 0.0071 - accuracy: 0.9980WARNING:tensorflow:Can save best model only with acc available, skipping.\n",
            "13/13 [==============================] - 2s 118ms/step - loss: 0.0071 - accuracy: 0.9980\n",
            "Epoch 40/100\n",
            "12/13 [==========================>...] - ETA: 0s - loss: 0.0181 - accuracy: 0.9980WARNING:tensorflow:Can save best model only with acc available, skipping.\n",
            "13/13 [==============================] - 2s 117ms/step - loss: 0.0181 - accuracy: 0.9980\n",
            "Epoch 41/100\n",
            "12/13 [==========================>...] - ETA: 0s - loss: 0.0091 - accuracy: 0.9977WARNING:tensorflow:Can save best model only with acc available, skipping.\n",
            "13/13 [==============================] - 2s 119ms/step - loss: 0.0091 - accuracy: 0.9977\n",
            "Epoch 42/100\n",
            "12/13 [==========================>...] - ETA: 0s - loss: 0.0054 - accuracy: 0.9980WARNING:tensorflow:Can save best model only with acc available, skipping.\n",
            "13/13 [==============================] - 2s 117ms/step - loss: 0.0054 - accuracy: 0.9980\n",
            "Epoch 43/100\n",
            "12/13 [==========================>...] - ETA: 0s - loss: 0.0052 - accuracy: 0.9987WARNING:tensorflow:Can save best model only with acc available, skipping.\n",
            "13/13 [==============================] - 2s 117ms/step - loss: 0.0052 - accuracy: 0.9987\n",
            "Epoch 44/100\n",
            "12/13 [==========================>...] - ETA: 0s - loss: 0.0045 - accuracy: 0.9984WARNING:tensorflow:Can save best model only with acc available, skipping.\n",
            "13/13 [==============================] - 2s 117ms/step - loss: 0.0045 - accuracy: 0.9984\n",
            "Epoch 45/100\n",
            "12/13 [==========================>...] - ETA: 0s - loss: 0.0031 - accuracy: 0.9993WARNING:tensorflow:Can save best model only with acc available, skipping.\n",
            "13/13 [==============================] - 2s 118ms/step - loss: 0.0031 - accuracy: 0.9993\n",
            "Epoch 46/100\n",
            "12/13 [==========================>...] - ETA: 0s - loss: 0.0070 - accuracy: 0.9987WARNING:tensorflow:Can save best model only with acc available, skipping.\n",
            "13/13 [==============================] - 2s 118ms/step - loss: 0.0070 - accuracy: 0.9987\n",
            "Epoch 47/100\n",
            "12/13 [==========================>...] - ETA: 0s - loss: 0.0036 - accuracy: 0.9984WARNING:tensorflow:Can save best model only with acc available, skipping.\n",
            "13/13 [==============================] - 2s 117ms/step - loss: 0.0036 - accuracy: 0.9984\n",
            "Epoch 48/100\n",
            "12/13 [==========================>...] - ETA: 0s - loss: 0.0049 - accuracy: 0.9990WARNING:tensorflow:Can save best model only with acc available, skipping.\n",
            "13/13 [==============================] - 2s 117ms/step - loss: 0.0049 - accuracy: 0.9990\n",
            "Epoch 49/100\n",
            "12/13 [==========================>...] - ETA: 0s - loss: 0.0019 - accuracy: 0.9993WARNING:tensorflow:Can save best model only with acc available, skipping.\n",
            "13/13 [==============================] - 2s 118ms/step - loss: 0.0019 - accuracy: 0.9993\n",
            "Epoch 50/100\n",
            "12/13 [==========================>...] - ETA: 0s - loss: 0.0126 - accuracy: 0.9974WARNING:tensorflow:Can save best model only with acc available, skipping.\n",
            "13/13 [==============================] - 2s 117ms/step - loss: 0.0126 - accuracy: 0.9974\n",
            "Epoch 51/100\n",
            "12/13 [==========================>...] - ETA: 0s - loss: 0.0074 - accuracy: 0.9987WARNING:tensorflow:Can save best model only with acc available, skipping.\n",
            "13/13 [==============================] - 2s 117ms/step - loss: 0.0073 - accuracy: 0.9987\n",
            "Epoch 52/100\n",
            "12/13 [==========================>...] - ETA: 0s - loss: 0.0065 - accuracy: 0.9984WARNING:tensorflow:Can save best model only with acc available, skipping.\n",
            "13/13 [==============================] - 2s 116ms/step - loss: 0.0065 - accuracy: 0.9984\n",
            "Epoch 53/100\n",
            "12/13 [==========================>...] - ETA: 0s - loss: 0.0038 - accuracy: 0.9990WARNING:tensorflow:Can save best model only with acc available, skipping.\n",
            "13/13 [==============================] - 2s 117ms/step - loss: 0.0038 - accuracy: 0.9990\n",
            "Epoch 54/100\n",
            "12/13 [==========================>...] - ETA: 0s - loss: 0.0029 - accuracy: 0.9984WARNING:tensorflow:Can save best model only with acc available, skipping.\n",
            "13/13 [==============================] - 2s 117ms/step - loss: 0.0029 - accuracy: 0.9984\n",
            "Epoch 55/100\n",
            "12/13 [==========================>...] - ETA: 0s - loss: 0.0023 - accuracy: 0.9990WARNING:tensorflow:Can save best model only with acc available, skipping.\n",
            "13/13 [==============================] - 2s 118ms/step - loss: 0.0023 - accuracy: 0.9990\n",
            "Epoch 56/100\n",
            "12/13 [==========================>...] - ETA: 0s - loss: 0.0029 - accuracy: 0.9990WARNING:tensorflow:Can save best model only with acc available, skipping.\n",
            "13/13 [==============================] - 2s 117ms/step - loss: 0.0029 - accuracy: 0.9990\n",
            "Epoch 57/100\n",
            "12/13 [==========================>...] - ETA: 0s - loss: 0.0036 - accuracy: 0.9990WARNING:tensorflow:Can save best model only with acc available, skipping.\n",
            "13/13 [==============================] - 2s 117ms/step - loss: 0.0036 - accuracy: 0.9990\n",
            "Epoch 58/100\n",
            "12/13 [==========================>...] - ETA: 0s - loss: 0.0042 - accuracy: 0.9984WARNING:tensorflow:Can save best model only with acc available, skipping.\n",
            "13/13 [==============================] - 2s 118ms/step - loss: 0.0042 - accuracy: 0.9984\n",
            "Epoch 59/100\n",
            "12/13 [==========================>...] - ETA: 0s - loss: 0.0039 - accuracy: 0.9987WARNING:tensorflow:Can save best model only with acc available, skipping.\n",
            "13/13 [==============================] - 2s 117ms/step - loss: 0.0039 - accuracy: 0.9987\n",
            "Epoch 60/100\n",
            "12/13 [==========================>...] - ETA: 0s - loss: 0.0136 - accuracy: 0.9977WARNING:tensorflow:Can save best model only with acc available, skipping.\n",
            "13/13 [==============================] - 2s 118ms/step - loss: 0.0136 - accuracy: 0.9977\n",
            "Epoch 61/100\n",
            "12/13 [==========================>...] - ETA: 0s - loss: 0.0053 - accuracy: 0.9984WARNING:tensorflow:Can save best model only with acc available, skipping.\n",
            "13/13 [==============================] - 2s 117ms/step - loss: 0.0054 - accuracy: 0.9984\n",
            "Epoch 62/100\n",
            "12/13 [==========================>...] - ETA: 0s - loss: 0.0300 - accuracy: 0.9938WARNING:tensorflow:Can save best model only with acc available, skipping.\n",
            "13/13 [==============================] - 2s 118ms/step - loss: 0.0300 - accuracy: 0.9938\n",
            "Epoch 63/100\n",
            "12/13 [==========================>...] - ETA: 0s - loss: 0.0202 - accuracy: 0.9938WARNING:tensorflow:Can save best model only with acc available, skipping.\n",
            "13/13 [==============================] - 2s 117ms/step - loss: 0.0202 - accuracy: 0.9938\n",
            "Epoch 64/100\n",
            "12/13 [==========================>...] - ETA: 0s - loss: 0.0324 - accuracy: 0.9945WARNING:tensorflow:Can save best model only with acc available, skipping.\n",
            "13/13 [==============================] - 2s 118ms/step - loss: 0.0323 - accuracy: 0.9945\n",
            "Epoch 65/100\n",
            "12/13 [==========================>...] - ETA: 0s - loss: 0.0200 - accuracy: 0.9951WARNING:tensorflow:Can save best model only with acc available, skipping.\n",
            "13/13 [==============================] - 2s 117ms/step - loss: 0.0200 - accuracy: 0.9951\n",
            "Epoch 66/100\n",
            "12/13 [==========================>...] - ETA: 0s - loss: 0.0175 - accuracy: 0.9951WARNING:tensorflow:Can save best model only with acc available, skipping.\n",
            "13/13 [==============================] - 2s 117ms/step - loss: 0.0175 - accuracy: 0.9951\n",
            "Epoch 67/100\n",
            "12/13 [==========================>...] - ETA: 0s - loss: 0.0096 - accuracy: 0.9974WARNING:tensorflow:Can save best model only with acc available, skipping.\n",
            "13/13 [==============================] - 2s 117ms/step - loss: 0.0096 - accuracy: 0.9974\n",
            "Epoch 68/100\n",
            "12/13 [==========================>...] - ETA: 0s - loss: 0.0098 - accuracy: 0.9971WARNING:tensorflow:Can save best model only with acc available, skipping.\n",
            "13/13 [==============================] - 2s 116ms/step - loss: 0.0098 - accuracy: 0.9971\n",
            "Epoch 69/100\n",
            "12/13 [==========================>...] - ETA: 0s - loss: 0.0067 - accuracy: 0.9977WARNING:tensorflow:Can save best model only with acc available, skipping.\n",
            "13/13 [==============================] - 2s 118ms/step - loss: 0.0067 - accuracy: 0.9977\n",
            "Epoch 70/100\n",
            "12/13 [==========================>...] - ETA: 0s - loss: 0.0090 - accuracy: 0.9974WARNING:tensorflow:Can save best model only with acc available, skipping.\n",
            "13/13 [==============================] - 2s 117ms/step - loss: 0.0090 - accuracy: 0.9974\n",
            "Epoch 71/100\n",
            "12/13 [==========================>...] - ETA: 0s - loss: 0.0066 - accuracy: 0.9980WARNING:tensorflow:Can save best model only with acc available, skipping.\n",
            "13/13 [==============================] - 2s 118ms/step - loss: 0.0066 - accuracy: 0.9980\n",
            "Epoch 72/100\n",
            "12/13 [==========================>...] - ETA: 0s - loss: 0.0056 - accuracy: 0.9974WARNING:tensorflow:Can save best model only with acc available, skipping.\n",
            "13/13 [==============================] - 2s 118ms/step - loss: 0.0056 - accuracy: 0.9974\n",
            "Epoch 73/100\n",
            "12/13 [==========================>...] - ETA: 0s - loss: 0.0079 - accuracy: 0.9967WARNING:tensorflow:Can save best model only with acc available, skipping.\n",
            "13/13 [==============================] - 2s 118ms/step - loss: 0.0079 - accuracy: 0.9967\n",
            "Epoch 74/100\n",
            "12/13 [==========================>...] - ETA: 0s - loss: 0.0051 - accuracy: 0.9987WARNING:tensorflow:Can save best model only with acc available, skipping.\n",
            "13/13 [==============================] - 2s 118ms/step - loss: 0.0051 - accuracy: 0.9987\n",
            "Epoch 75/100\n",
            "12/13 [==========================>...] - ETA: 0s - loss: 0.0050 - accuracy: 0.9990WARNING:tensorflow:Can save best model only with acc available, skipping.\n",
            "13/13 [==============================] - 2s 117ms/step - loss: 0.0050 - accuracy: 0.9990\n",
            "Epoch 76/100\n",
            "12/13 [==========================>...] - ETA: 0s - loss: 0.0043 - accuracy: 0.9987WARNING:tensorflow:Can save best model only with acc available, skipping.\n",
            "13/13 [==============================] - 2s 118ms/step - loss: 0.0043 - accuracy: 0.9987\n",
            "Epoch 77/100\n",
            "12/13 [==========================>...] - ETA: 0s - loss: 0.0049 - accuracy: 0.9984WARNING:tensorflow:Can save best model only with acc available, skipping.\n",
            "13/13 [==============================] - 2s 117ms/step - loss: 0.0049 - accuracy: 0.9984\n",
            "Epoch 78/100\n",
            "12/13 [==========================>...] - ETA: 0s - loss: 0.0041 - accuracy: 0.9984WARNING:tensorflow:Can save best model only with acc available, skipping.\n",
            "13/13 [==============================] - 2s 117ms/step - loss: 0.0041 - accuracy: 0.9984\n",
            "Epoch 79/100\n",
            "12/13 [==========================>...] - ETA: 0s - loss: 0.0020 - accuracy: 0.9993WARNING:tensorflow:Can save best model only with acc available, skipping.\n",
            "13/13 [==============================] - 2s 118ms/step - loss: 0.0020 - accuracy: 0.9993\n",
            "Epoch 80/100\n",
            "12/13 [==========================>...] - ETA: 0s - loss: 0.0015 - accuracy: 0.9993WARNING:tensorflow:Can save best model only with acc available, skipping.\n",
            "13/13 [==============================] - 2s 118ms/step - loss: 0.0015 - accuracy: 0.9993\n",
            "Epoch 81/100\n",
            "12/13 [==========================>...] - ETA: 0s - loss: 0.0027 - accuracy: 0.9990    WARNING:tensorflow:Can save best model only with acc available, skipping.\n",
            "13/13 [==============================] - 2s 117ms/step - loss: 0.0027 - accuracy: 0.9990\n",
            "Epoch 82/100\n",
            "12/13 [==========================>...] - ETA: 0s - loss: 0.0026 - accuracy: 0.9990WARNING:tensorflow:Can save best model only with acc available, skipping.\n",
            "13/13 [==============================] - 2s 118ms/step - loss: 0.0026 - accuracy: 0.9990\n",
            "Epoch 83/100\n",
            "12/13 [==========================>...] - ETA: 0s - loss: 0.0052 - accuracy: 0.9984WARNING:tensorflow:Can save best model only with acc available, skipping.\n",
            "13/13 [==============================] - 2s 119ms/step - loss: 0.0052 - accuracy: 0.9984\n",
            "Epoch 84/100\n",
            "12/13 [==========================>...] - ETA: 0s - loss: 7.0512e-04 - accuracy: 0.9997WARNING:tensorflow:Can save best model only with acc available, skipping.\n",
            "13/13 [==============================] - 2s 118ms/step - loss: 7.0466e-04 - accuracy: 0.9997\n",
            "Epoch 85/100\n",
            "12/13 [==========================>...] - ETA: 0s - loss: 0.0092 - accuracy: 0.9974WARNING:tensorflow:Can save best model only with acc available, skipping.\n",
            "13/13 [==============================] - 2s 117ms/step - loss: 0.0092 - accuracy: 0.9974\n",
            "Epoch 86/100\n",
            "12/13 [==========================>...] - ETA: 0s - loss: 0.0057 - accuracy: 0.9980WARNING:tensorflow:Can save best model only with acc available, skipping.\n",
            "13/13 [==============================] - 2s 117ms/step - loss: 0.0056 - accuracy: 0.9980\n",
            "Epoch 87/100\n",
            "12/13 [==========================>...] - ETA: 0s - loss: 0.0144 - accuracy: 0.9984WARNING:tensorflow:Can save best model only with acc available, skipping.\n",
            "13/13 [==============================] - 2s 117ms/step - loss: 0.0144 - accuracy: 0.9984\n",
            "Epoch 88/100\n",
            "12/13 [==========================>...] - ETA: 0s - loss: 0.0165 - accuracy: 0.9967WARNING:tensorflow:Can save best model only with acc available, skipping.\n",
            "13/13 [==============================] - 2s 118ms/step - loss: 0.0165 - accuracy: 0.9967\n",
            "Epoch 89/100\n",
            "12/13 [==========================>...] - ETA: 0s - loss: 0.0073 - accuracy: 0.9974WARNING:tensorflow:Can save best model only with acc available, skipping.\n",
            "13/13 [==============================] - 2s 117ms/step - loss: 0.0073 - accuracy: 0.9974\n",
            "Epoch 90/100\n",
            "12/13 [==========================>...] - ETA: 0s - loss: 0.0031 - accuracy: 0.9990WARNING:tensorflow:Can save best model only with acc available, skipping.\n",
            "13/13 [==============================] - 2s 117ms/step - loss: 0.0031 - accuracy: 0.9990\n",
            "Epoch 91/100\n",
            "12/13 [==========================>...] - ETA: 0s - loss: 0.0050 - accuracy: 0.9980WARNING:tensorflow:Can save best model only with acc available, skipping.\n",
            "13/13 [==============================] - 2s 118ms/step - loss: 0.0050 - accuracy: 0.9980\n",
            "Epoch 92/100\n",
            "12/13 [==========================>...] - ETA: 0s - loss: 0.0029 - accuracy: 0.9987WARNING:tensorflow:Can save best model only with acc available, skipping.\n",
            "13/13 [==============================] - 2s 117ms/step - loss: 0.0034 - accuracy: 0.9984\n",
            "Epoch 93/100\n",
            "12/13 [==========================>...] - ETA: 0s - loss: 0.1065 - accuracy: 0.9766WARNING:tensorflow:Can save best model only with acc available, skipping.\n",
            "13/13 [==============================] - 2s 117ms/step - loss: 0.1066 - accuracy: 0.9766\n",
            "Epoch 94/100\n",
            "12/13 [==========================>...] - ETA: 0s - loss: 0.2608 - accuracy: 0.9668WARNING:tensorflow:Can save best model only with acc available, skipping.\n",
            "13/13 [==============================] - 2s 118ms/step - loss: 0.2606 - accuracy: 0.9668\n",
            "Epoch 95/100\n",
            "12/13 [==========================>...] - ETA: 0s - loss: 0.1729 - accuracy: 0.9772WARNING:tensorflow:Can save best model only with acc available, skipping.\n",
            "13/13 [==============================] - 2s 117ms/step - loss: 0.1729 - accuracy: 0.9772\n",
            "Epoch 96/100\n",
            "12/13 [==========================>...] - ETA: 0s - loss: 0.0730 - accuracy: 0.9850WARNING:tensorflow:Can save best model only with acc available, skipping.\n",
            "13/13 [==============================] - 2s 117ms/step - loss: 0.0730 - accuracy: 0.9850\n",
            "Epoch 97/100\n",
            "12/13 [==========================>...] - ETA: 0s - loss: 0.0560 - accuracy: 0.9876WARNING:tensorflow:Can save best model only with acc available, skipping.\n",
            "13/13 [==============================] - 2s 116ms/step - loss: 0.0560 - accuracy: 0.9876\n",
            "Epoch 98/100\n",
            "12/13 [==========================>...] - ETA: 0s - loss: 0.0309 - accuracy: 0.9909WARNING:tensorflow:Can save best model only with acc available, skipping.\n",
            "13/13 [==============================] - 2s 117ms/step - loss: 0.0309 - accuracy: 0.9909\n",
            "Epoch 99/100\n",
            "12/13 [==========================>...] - ETA: 0s - loss: 0.0237 - accuracy: 0.9951WARNING:tensorflow:Can save best model only with acc available, skipping.\n",
            "13/13 [==============================] - 2s 117ms/step - loss: 0.0236 - accuracy: 0.9951\n",
            "Epoch 100/100\n",
            "12/13 [==========================>...] - ETA: 0s - loss: 0.0130 - accuracy: 0.9974WARNING:tensorflow:Can save best model only with acc available, skipping.\n",
            "13/13 [==============================] - 2s 116ms/step - loss: 0.0130 - accuracy: 0.9974\n"
          ],
          "name": "stdout"
        }
      ]
    },
    {
      "cell_type": "code",
      "metadata": {
        "id": "7Qu6iIYU3MMN",
        "colab_type": "code",
        "colab": {
          "base_uri": "https://localhost:8080/",
          "height": 454
        },
        "outputId": "38ef2dc2-559d-4509-ab7f-388aec1d3e60"
      },
      "source": [
        "# load best weights\n",
        "model.load_weights(\"best-model.hdf5\")\n",
        "model.compile(loss='categorical_crossentropy', optimizer=adam, metrics=['accuracy'])"
      ],
      "execution_count": 53,
      "outputs": [
        {
          "output_type": "error",
          "ename": "OSError",
          "evalue": "ignored",
          "traceback": [
            "\u001b[0;31m---------------------------------------------------------------------------\u001b[0m",
            "\u001b[0;31mOSError\u001b[0m                                   Traceback (most recent call last)",
            "\u001b[0;32m<ipython-input-53-e8eeb3b0e311>\u001b[0m in \u001b[0;36m<module>\u001b[0;34m()\u001b[0m\n\u001b[1;32m      1\u001b[0m \u001b[0;31m# load best weights\u001b[0m\u001b[0;34m\u001b[0m\u001b[0;34m\u001b[0m\u001b[0;34m\u001b[0m\u001b[0m\n\u001b[0;32m----> 2\u001b[0;31m \u001b[0mmodel\u001b[0m\u001b[0;34m.\u001b[0m\u001b[0mload_weights\u001b[0m\u001b[0;34m(\u001b[0m\u001b[0;34m\"best-model.hdf5\"\u001b[0m\u001b[0;34m)\u001b[0m\u001b[0;34m\u001b[0m\u001b[0;34m\u001b[0m\u001b[0m\n\u001b[0m\u001b[1;32m      3\u001b[0m \u001b[0mmodel\u001b[0m\u001b[0;34m.\u001b[0m\u001b[0mcompile\u001b[0m\u001b[0;34m(\u001b[0m\u001b[0mloss\u001b[0m\u001b[0;34m=\u001b[0m\u001b[0;34m'categorical_crossentropy'\u001b[0m\u001b[0;34m,\u001b[0m \u001b[0moptimizer\u001b[0m\u001b[0;34m=\u001b[0m\u001b[0madam\u001b[0m\u001b[0;34m,\u001b[0m \u001b[0mmetrics\u001b[0m\u001b[0;34m=\u001b[0m\u001b[0;34m[\u001b[0m\u001b[0;34m'accuracy'\u001b[0m\u001b[0;34m]\u001b[0m\u001b[0;34m)\u001b[0m\u001b[0;34m\u001b[0m\u001b[0;34m\u001b[0m\u001b[0m\n",
            "\u001b[0;32m/usr/local/lib/python3.6/dist-packages/tensorflow/python/keras/engine/training.py\u001b[0m in \u001b[0;36mload_weights\u001b[0;34m(self, filepath, by_name, skip_mismatch, options)\u001b[0m\n\u001b[1;32m   2202\u001b[0m           'first, then load the weights.')\n\u001b[1;32m   2203\u001b[0m     \u001b[0mself\u001b[0m\u001b[0;34m.\u001b[0m\u001b[0m_assert_weights_created\u001b[0m\u001b[0;34m(\u001b[0m\u001b[0;34m)\u001b[0m\u001b[0;34m\u001b[0m\u001b[0;34m\u001b[0m\u001b[0m\n\u001b[0;32m-> 2204\u001b[0;31m     \u001b[0;32mwith\u001b[0m \u001b[0mh5py\u001b[0m\u001b[0;34m.\u001b[0m\u001b[0mFile\u001b[0m\u001b[0;34m(\u001b[0m\u001b[0mfilepath\u001b[0m\u001b[0;34m,\u001b[0m \u001b[0;34m'r'\u001b[0m\u001b[0;34m)\u001b[0m \u001b[0;32mas\u001b[0m \u001b[0mf\u001b[0m\u001b[0;34m:\u001b[0m\u001b[0;34m\u001b[0m\u001b[0;34m\u001b[0m\u001b[0m\n\u001b[0m\u001b[1;32m   2205\u001b[0m       \u001b[0;32mif\u001b[0m \u001b[0;34m'layer_names'\u001b[0m \u001b[0;32mnot\u001b[0m \u001b[0;32min\u001b[0m \u001b[0mf\u001b[0m\u001b[0;34m.\u001b[0m\u001b[0mattrs\u001b[0m \u001b[0;32mand\u001b[0m \u001b[0;34m'model_weights'\u001b[0m \u001b[0;32min\u001b[0m \u001b[0mf\u001b[0m\u001b[0;34m:\u001b[0m\u001b[0;34m\u001b[0m\u001b[0;34m\u001b[0m\u001b[0m\n\u001b[1;32m   2206\u001b[0m         \u001b[0mf\u001b[0m \u001b[0;34m=\u001b[0m \u001b[0mf\u001b[0m\u001b[0;34m[\u001b[0m\u001b[0;34m'model_weights'\u001b[0m\u001b[0;34m]\u001b[0m\u001b[0;34m\u001b[0m\u001b[0;34m\u001b[0m\u001b[0m\n",
            "\u001b[0;32m/usr/local/lib/python3.6/dist-packages/h5py/_hl/files.py\u001b[0m in \u001b[0;36m__init__\u001b[0;34m(self, name, mode, driver, libver, userblock_size, swmr, rdcc_nslots, rdcc_nbytes, rdcc_w0, track_order, **kwds)\u001b[0m\n\u001b[1;32m    406\u001b[0m                 fid = make_fid(name, mode, userblock_size,\n\u001b[1;32m    407\u001b[0m                                \u001b[0mfapl\u001b[0m\u001b[0;34m,\u001b[0m \u001b[0mfcpl\u001b[0m\u001b[0;34m=\u001b[0m\u001b[0mmake_fcpl\u001b[0m\u001b[0;34m(\u001b[0m\u001b[0mtrack_order\u001b[0m\u001b[0;34m=\u001b[0m\u001b[0mtrack_order\u001b[0m\u001b[0;34m)\u001b[0m\u001b[0;34m,\u001b[0m\u001b[0;34m\u001b[0m\u001b[0;34m\u001b[0m\u001b[0m\n\u001b[0;32m--> 408\u001b[0;31m                                swmr=swmr)\n\u001b[0m\u001b[1;32m    409\u001b[0m \u001b[0;34m\u001b[0m\u001b[0m\n\u001b[1;32m    410\u001b[0m             \u001b[0;32mif\u001b[0m \u001b[0misinstance\u001b[0m\u001b[0;34m(\u001b[0m\u001b[0mlibver\u001b[0m\u001b[0;34m,\u001b[0m \u001b[0mtuple\u001b[0m\u001b[0;34m)\u001b[0m\u001b[0;34m:\u001b[0m\u001b[0;34m\u001b[0m\u001b[0;34m\u001b[0m\u001b[0m\n",
            "\u001b[0;32m/usr/local/lib/python3.6/dist-packages/h5py/_hl/files.py\u001b[0m in \u001b[0;36mmake_fid\u001b[0;34m(name, mode, userblock_size, fapl, fcpl, swmr)\u001b[0m\n\u001b[1;32m    171\u001b[0m         \u001b[0;32mif\u001b[0m \u001b[0mswmr\u001b[0m \u001b[0;32mand\u001b[0m \u001b[0mswmr_support\u001b[0m\u001b[0;34m:\u001b[0m\u001b[0;34m\u001b[0m\u001b[0;34m\u001b[0m\u001b[0m\n\u001b[1;32m    172\u001b[0m             \u001b[0mflags\u001b[0m \u001b[0;34m|=\u001b[0m \u001b[0mh5f\u001b[0m\u001b[0;34m.\u001b[0m\u001b[0mACC_SWMR_READ\u001b[0m\u001b[0;34m\u001b[0m\u001b[0;34m\u001b[0m\u001b[0m\n\u001b[0;32m--> 173\u001b[0;31m         \u001b[0mfid\u001b[0m \u001b[0;34m=\u001b[0m \u001b[0mh5f\u001b[0m\u001b[0;34m.\u001b[0m\u001b[0mopen\u001b[0m\u001b[0;34m(\u001b[0m\u001b[0mname\u001b[0m\u001b[0;34m,\u001b[0m \u001b[0mflags\u001b[0m\u001b[0;34m,\u001b[0m \u001b[0mfapl\u001b[0m\u001b[0;34m=\u001b[0m\u001b[0mfapl\u001b[0m\u001b[0;34m)\u001b[0m\u001b[0;34m\u001b[0m\u001b[0;34m\u001b[0m\u001b[0m\n\u001b[0m\u001b[1;32m    174\u001b[0m     \u001b[0;32melif\u001b[0m \u001b[0mmode\u001b[0m \u001b[0;34m==\u001b[0m \u001b[0;34m'r+'\u001b[0m\u001b[0;34m:\u001b[0m\u001b[0;34m\u001b[0m\u001b[0;34m\u001b[0m\u001b[0m\n\u001b[1;32m    175\u001b[0m         \u001b[0mfid\u001b[0m \u001b[0;34m=\u001b[0m \u001b[0mh5f\u001b[0m\u001b[0;34m.\u001b[0m\u001b[0mopen\u001b[0m\u001b[0;34m(\u001b[0m\u001b[0mname\u001b[0m\u001b[0;34m,\u001b[0m \u001b[0mh5f\u001b[0m\u001b[0;34m.\u001b[0m\u001b[0mACC_RDWR\u001b[0m\u001b[0;34m,\u001b[0m \u001b[0mfapl\u001b[0m\u001b[0;34m=\u001b[0m\u001b[0mfapl\u001b[0m\u001b[0;34m)\u001b[0m\u001b[0;34m\u001b[0m\u001b[0;34m\u001b[0m\u001b[0m\n",
            "\u001b[0;32mh5py/_objects.pyx\u001b[0m in \u001b[0;36mh5py._objects.with_phil.wrapper\u001b[0;34m()\u001b[0m\n",
            "\u001b[0;32mh5py/_objects.pyx\u001b[0m in \u001b[0;36mh5py._objects.with_phil.wrapper\u001b[0;34m()\u001b[0m\n",
            "\u001b[0;32mh5py/h5f.pyx\u001b[0m in \u001b[0;36mh5py.h5f.open\u001b[0;34m()\u001b[0m\n",
            "\u001b[0;31mOSError\u001b[0m: Unable to open file (unable to open file: name = 'best-model.hdf5', errno = 2, error message = 'No such file or directory', flags = 0, o_flags = 0)"
          ]
        }
      ]
    },
    {
      "cell_type": "code",
      "metadata": {
        "id": "AumQhM19A94h",
        "colab_type": "code",
        "colab": {
          "base_uri": "https://localhost:8080/",
          "height": 34
        },
        "outputId": "77ded4cb-a3e3-4e86-b336-2a430decddda"
      },
      "source": [
        "cd /content/gdrive/My Drive/hsi"
      ],
      "execution_count": 50,
      "outputs": [
        {
          "output_type": "stream",
          "text": [
            "/content/gdrive/My Drive/hsi\n"
          ],
          "name": "stdout"
        }
      ]
    },
    {
      "cell_type": "code",
      "metadata": {
        "id": "ekxqPEq75T-C",
        "colab_type": "code",
        "colab": {
          "base_uri": "https://localhost:8080/",
          "height": 34
        },
        "outputId": "a2ed6863-0953-4a0e-a3f2-69064d62c41f"
      },
      "source": [
        "Xtest = Xtest.reshape(-1, windowSize, windowSize, K, 1)\n",
        "Xtest.shape"
      ],
      "execution_count": 30,
      "outputs": [
        {
          "output_type": "execute_result",
          "data": {
            "text/plain": [
              "(7175, 25, 25, 30, 1)"
            ]
          },
          "metadata": {
            "tags": []
          },
          "execution_count": 30
        }
      ]
    },
    {
      "cell_type": "code",
      "metadata": {
        "id": "bcwYqMdu5W7T",
        "colab_type": "code",
        "colab": {
          "base_uri": "https://localhost:8080/",
          "height": 34
        },
        "outputId": "e922cd70-15c1-4ae0-c1ee-94ebd18b9303"
      },
      "source": [
        "ytest = np_utils.to_categorical(ytest)\n",
        "ytest.shape"
      ],
      "execution_count": 31,
      "outputs": [
        {
          "output_type": "execute_result",
          "data": {
            "text/plain": [
              "(7175, 16)"
            ]
          },
          "metadata": {
            "tags": []
          },
          "execution_count": 31
        }
      ]
    },
    {
      "cell_type": "code",
      "metadata": {
        "id": "BmTkZAQl5Zh-",
        "colab_type": "code",
        "colab": {
          "base_uri": "https://localhost:8080/",
          "height": 403
        },
        "outputId": "1057d161-2fbb-4d96-b31b-2e156ece1db5"
      },
      "source": [
        "Y_pred_test = model.predict(Xtest)\n",
        "y_pred_test = np.argmax(Y_pred_test, axis=1)\n",
        "\n",
        "classification = classification_report(np.argmax(ytest, axis=1), y_pred_test)\n",
        "print(classification)"
      ],
      "execution_count": 32,
      "outputs": [
        {
          "output_type": "stream",
          "text": [
            "              precision    recall  f1-score   support\n",
            "\n",
            "           0       1.00      1.00      1.00        32\n",
            "           1       1.00      0.99      0.99      1000\n",
            "           2       0.99      1.00      1.00       581\n",
            "           3       1.00      1.00      1.00       166\n",
            "           4       0.99      1.00      1.00       338\n",
            "           5       0.99      1.00      0.99       511\n",
            "           6       1.00      1.00      1.00        20\n",
            "           7       1.00      1.00      1.00       335\n",
            "           8       1.00      0.86      0.92        14\n",
            "           9       1.00      1.00      1.00       680\n",
            "          10       1.00      1.00      1.00      1719\n",
            "          11       1.00      0.99      1.00       415\n",
            "          12       1.00      1.00      1.00       143\n",
            "          13       1.00      1.00      1.00       886\n",
            "          14       1.00      1.00      1.00       270\n",
            "          15       0.97      1.00      0.98        65\n",
            "\n",
            "    accuracy                           1.00      7175\n",
            "   macro avg       1.00      0.99      0.99      7175\n",
            "weighted avg       1.00      1.00      1.00      7175\n",
            "\n"
          ],
          "name": "stdout"
        }
      ]
    },
    {
      "cell_type": "code",
      "metadata": {
        "id": "HBwWVvx25cuY",
        "colab_type": "code",
        "colab": {}
      },
      "source": [
        "def AA_andEachClassAccuracy(confusion_matrix):\n",
        "    counter = confusion_matrix.shape[0]\n",
        "    list_diag = np.diag(confusion_matrix)\n",
        "    list_raw_sum = np.sum(confusion_matrix, axis=1)\n",
        "    each_acc = np.nan_to_num(truediv(list_diag, list_raw_sum))\n",
        "    average_acc = np.mean(each_acc)\n",
        "    return each_acc, average_acc"
      ],
      "execution_count": 33,
      "outputs": []
    },
    {
      "cell_type": "code",
      "metadata": {
        "id": "1UWT9Mx95hLW",
        "colab_type": "code",
        "colab": {}
      },
      "source": [
        "def reports (X_test,y_test,name):\n",
        "    #start = time.time()\n",
        "    Y_pred = model.predict(X_test)\n",
        "    y_pred = np.argmax(Y_pred, axis=1)\n",
        "    #end = time.time()\n",
        "    #print(end - start)\n",
        "    if name == 'IP':\n",
        "        target_names = ['Alfalfa', 'Corn-notill', 'Corn-mintill', 'Corn'\n",
        "                        ,'Grass-pasture', 'Grass-trees', 'Grass-pasture-mowed', \n",
        "                        'Hay-windrowed', 'Oats', 'Soybean-notill', 'Soybean-mintill',\n",
        "                        'Soybean-clean', 'Wheat', 'Woods', 'Buildings-Grass-Trees-Drives',\n",
        "                        'Stone-Steel-Towers']\n",
        "    elif name == 'SA':\n",
        "        target_names = ['Brocoli_green_weeds_1','Brocoli_green_weeds_2','Fallow','Fallow_rough_plow','Fallow_smooth',\n",
        "                        'Stubble','Celery','Grapes_untrained','Soil_vinyard_develop','Corn_senesced_green_weeds',\n",
        "                        'Lettuce_romaine_4wk','Lettuce_romaine_5wk','Lettuce_romaine_6wk','Lettuce_romaine_7wk',\n",
        "                        'Vinyard_untrained','Vinyard_vertical_trellis']\n",
        "    elif name == 'PU':\n",
        "        target_names = ['Asphalt','Meadows','Gravel','Trees', 'Painted metal sheets','Bare Soil','Bitumen',\n",
        "                        'Self-Blocking Bricks','Shadows']\n",
        "    \n",
        "    classification = classification_report(np.argmax(y_test, axis=1), y_pred, target_names=target_names)\n",
        "    oa = accuracy_score(np.argmax(y_test, axis=1), y_pred)\n",
        "    confusion = confusion_matrix(np.argmax(y_test, axis=1), y_pred)\n",
        "    each_acc, aa = AA_andEachClassAccuracy(confusion)\n",
        "    kappa = cohen_kappa_score(np.argmax(y_test, axis=1), y_pred)\n",
        "    score = model.evaluate(X_test, y_test, batch_size=32)\n",
        "    Test_Loss =  score[0]*100\n",
        "    Test_accuracy = score[1]*100\n",
        "    \n",
        "    return classification, confusion, Test_Loss, Test_accuracy, oa*100, each_acc*100, aa*100, kappa*100"
      ],
      "execution_count": 34,
      "outputs": []
    },
    {
      "cell_type": "code",
      "metadata": {
        "id": "W7UkSabp5pKJ",
        "colab_type": "code",
        "colab": {
          "base_uri": "https://localhost:8080/",
          "height": 34
        },
        "outputId": "d6a99fd8-e07c-41e0-9447-3852b151d17c"
      },
      "source": [
        "classification, confusion, Test_loss, Test_accuracy, oa, each_acc, aa, kappa = reports(Xtest,ytest,dataset)\n",
        "classification = str(classification)\n",
        "confusion = str(confusion)\n",
        "file_name = \"classification_report.txt\"\n",
        "\n",
        "with open(file_name, 'w') as x_file:\n",
        "    x_file.write('{} Test loss (%)'.format(Test_loss))\n",
        "    x_file.write('\\n')\n",
        "    x_file.write('{} Test accuracy (%)'.format(Test_accuracy))\n",
        "    x_file.write('\\n')\n",
        "    x_file.write('\\n')\n",
        "    x_file.write('{} Kappa accuracy (%)'.format(kappa))\n",
        "    x_file.write('\\n')\n",
        "    x_file.write('{} Overall accuracy (%)'.format(oa))\n",
        "    x_file.write('\\n')\n",
        "    x_file.write('{} Average accuracy (%)'.format(aa))\n",
        "    x_file.write('\\n')\n",
        "    x_file.write('\\n')\n",
        "    x_file.write('{}'.format(classification))\n",
        "    x_file.write('\\n')\n",
        "    x_file.write('{}'.format(confusion))"
      ],
      "execution_count": 35,
      "outputs": [
        {
          "output_type": "stream",
          "text": [
            "225/225 [==============================] - 2s 9ms/step - loss: 0.0107 - accuracy: 0.9968\n"
          ],
          "name": "stdout"
        }
      ]
    },
    {
      "cell_type": "code",
      "metadata": {
        "id": "iUk4SLSr5sxT",
        "colab_type": "code",
        "colab": {}
      },
      "source": [
        "def Patch(data,height_index,width_index):\n",
        "    height_slice = slice(height_index, height_index+PATCH_SIZE)\n",
        "    width_slice = slice(width_index, width_index+PATCH_SIZE)\n",
        "    patch = data[height_slice, width_slice, :]\n",
        "    \n",
        "    return patch"
      ],
      "execution_count": 36,
      "outputs": []
    },
    {
      "cell_type": "code",
      "metadata": {
        "id": "6muXxcyp5zML",
        "colab_type": "code",
        "colab": {}
      },
      "source": [
        "X, y = loadData(dataset)\n"
      ],
      "execution_count": 37,
      "outputs": []
    },
    {
      "cell_type": "code",
      "metadata": {
        "id": "Cr4KhGjL512n",
        "colab_type": "code",
        "colab": {}
      },
      "source": [
        "height = y.shape[0]\n",
        "width = y.shape[1]\n",
        "PATCH_SIZE = windowSize\n",
        "numComponents = K"
      ],
      "execution_count": 38,
      "outputs": []
    },
    {
      "cell_type": "code",
      "metadata": {
        "id": "U2kcmbGx536Z",
        "colab_type": "code",
        "colab": {}
      },
      "source": [
        "X,pca = applyPCA(X, numComponents=numComponents)\n"
      ],
      "execution_count": 39,
      "outputs": []
    },
    {
      "cell_type": "code",
      "metadata": {
        "id": "IwhiBDam55ZM",
        "colab_type": "code",
        "colab": {}
      },
      "source": [
        "X = padWithZeros(X, PATCH_SIZE//2)\n"
      ],
      "execution_count": 40,
      "outputs": []
    },
    {
      "cell_type": "code",
      "metadata": {
        "id": "uBqvMHrJ569M",
        "colab_type": "code",
        "colab": {}
      },
      "source": [
        "outputs = np.zeros((height,width))\n",
        "for i in range(height):\n",
        "    for j in range(width):\n",
        "        target = int(y[i,j])\n",
        "        if target == 0 :\n",
        "            continue\n",
        "        else :\n",
        "            image_patch=Patch(X,i,j)\n",
        "            X_test_image = image_patch.reshape(1,image_patch.shape[0],image_patch.shape[1], image_patch.shape[2], 1).astype('float32')                                   \n",
        "            prediction = (model.predict(X_test_image))\n",
        "            prediction = np.argmax(prediction, axis=1)\n",
        "            outputs[i][j] = prediction+1"
      ],
      "execution_count": 41,
      "outputs": []
    },
    {
      "cell_type": "code",
      "metadata": {
        "id": "qp4DePWC59Nd",
        "colab_type": "code",
        "colab": {
          "base_uri": "https://localhost:8080/",
          "height": 431
        },
        "outputId": "0e70fc8f-15df-4e72-9235-3e60bd887a74"
      },
      "source": [
        "ground_truth = spectral.imshow(classes = y,figsize =(7,7))"
      ],
      "execution_count": 42,
      "outputs": [
        {
          "output_type": "display_data",
          "data": {
            "image/png": "[encoded data removed]",
            "text/plain": [
              "<Figure size 504x504 with 1 Axes>"
            ]
          },
          "metadata": {
            "tags": [],
            "needs_background": "light"
          }
        }
      ]
    },
    {
      "cell_type": "code",
      "metadata": {
        "id": "QdU16PSf6DaX",
        "colab_type": "code",
        "colab": {
          "base_uri": "https://localhost:8080/",
          "height": 431
        },
        "outputId": "b95a57d7-cf73-413c-b689-986cadcdf557"
      },
      "source": [
        "predict_image = spectral.imshow(classes = outputs.astype(int),figsize =(7,7))"
      ],
      "execution_count": 43,
      "outputs": [
        {
          "output_type": "display_data",
          "data": {
            "image/png": "[encoded data removed]",
            "text/plain": [
              "<Figure size 504x504 with 1 Axes>"
            ]
          },
          "metadata": {
            "tags": [],
            "needs_background": "light"
          }
        }
      ]
    },
    {
      "cell_type": "code",
      "metadata": {
        "id": "KD_571bF6D9R",
        "colab_type": "code",
        "colab": {}
      },
      "source": [
        "spectral.save_rgb(\"predictions.jpg\", outputs.astype(int), colors=spectral.spy_colors)"
      ],
      "execution_count": 44,
      "outputs": []
    },
    {
      "cell_type": "code",
      "metadata": {
        "id": "rayeDHss6Gkd",
        "colab_type": "code",
        "colab": {}
      },
      "source": [
        ""
      ],
      "execution_count": null,
      "outputs": []
    }
  ]
}